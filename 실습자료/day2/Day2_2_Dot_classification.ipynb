{
  "nbformat": 4,
  "nbformat_minor": 0,
  "metadata": {
    "colab": {
      "name": "[day2-2]Dot_classification_solution.ipynb",
      "provenance": [],
      "collapsed_sections": [],
      "toc_visible": true
    },
    "kernelspec": {
      "display_name": "Python 3",
      "language": "python",
      "name": "python3"
    },
    "language_info": {
      "codemirror_mode": {
        "name": "ipython",
        "version": 3
      },
      "file_extension": ".py",
      "mimetype": "text/x-python",
      "name": "python",
      "nbconvert_exporter": "python",
      "pygments_lexer": "ipython3",
      "version": "3.8.5"
    }
  },
  "cells": [
    {
      "cell_type": "code",
      "metadata": {
        "id": "d7U3b8FffmfV"
      },
      "source": [
        "import torch\n",
        "import numpy\n",
        "from sklearn.datasets import make_blobs\n",
        "import matplotlib.pyplot as plt"
      ],
      "execution_count": null,
      "outputs": []
    },
    {
      "cell_type": "code",
      "metadata": {
        "id": "AcogT3YVfmfb"
      },
      "source": [
        "n_dim = 2\n",
        "x_train, y_train = make_blobs(n_samples=80, n_features=n_dim,\n",
        "                              centers=[[0,0],[1,1],[1,0],[0,1]],\n",
        "                              shuffle=True, cluster_std=0.15)\n",
        "x_test, y_test = make_blobs(n_samples=20, n_features=n_dim,\n",
        "                            centers=[[0,0],[1,1],[1,0],[0,1]],\n",
        "                            shuffle=True, cluster_std=0.15)"
      ],
      "execution_count": null,
      "outputs": []
    },
    {
      "cell_type": "code",
      "metadata": {
        "id": "dDBxQXrAip0_"
      },
      "source": [
        "for i, x in enumerate(x_train):\n",
        "    print(x, y_train[i])\n",
        "    if i == 15 : break"
      ],
      "execution_count": null,
      "outputs": []
    },
    {
      "cell_type": "code",
      "metadata": {
        "id": "6MzHbm-Hfmfc"
      },
      "source": [
        "def label_map(y_, from_, to_):\n",
        "    y = numpy.copy(y_)\n",
        "    for f in from_:\n",
        "        y[y_ == f] = to_\n",
        "    return y\n",
        "\n",
        "y_train = label_map(y_train, [0, 1], 0)\n",
        "y_train = label_map(y_train, [2, 3], 1)\n",
        "y_test = label_map(y_test, [0, 1], 0)\n",
        "y_test = label_map(y_test, [2, 3], 1)"
      ],
      "execution_count": null,
      "outputs": []
    },
    {
      "cell_type": "code",
      "metadata": {
        "id": "mP8zxnsbfmfc"
      },
      "source": [
        "def vis_data(x,y = None, c = 'r'):\n",
        "    if y is None:\n",
        "        y = [None] * len(x)\n",
        "    for x_, y_ in zip(x,y):\n",
        "        if y_ is None:\n",
        "            plt.plot(x_[0], x_[1], '*',markerfacecolor='none', markeredgecolor=c)\n",
        "        else:\n",
        "            plt.plot(x_[0], x_[1], c+'o' if y_ == 0 else c+'+')\n",
        "\n",
        "plt.figure()\n",
        "vis_data(x_train, y_train, c='r')\n",
        "plt.plot([-1, 2], [0,0], linestyle = \":\", color = 'k')\n",
        "plt.plot([-1, 2], [1,1], linestyle = \":\", color = 'k')\n",
        "plt.plot([0, 0], [-1, 2], linestyle = \":\", color = 'k')\n",
        "plt.plot([1, 1], [-1,2], linestyle = \":\", color = 'k')\n",
        "\n",
        "plt.xlim([-0.5, 1.5])\n",
        "plt.ylim([-0.5, 1.5])\n",
        "plt.show()"
      ],
      "execution_count": null,
      "outputs": []
    },
    {
      "cell_type": "code",
      "metadata": {
        "id": "YYtvQfymfmfe"
      },
      "source": [
        "x_train = torch.FloatTensor(x_train)\n",
        "print(x_train.shape)\n",
        "x_test = torch.FloatTensor(x_test)\n",
        "y_train = torch.FloatTensor(y_train)\n",
        "y_test = torch.FloatTensor(y_test)"
      ],
      "execution_count": null,
      "outputs": []
    },
    {
      "cell_type": "code",
      "metadata": {
        "id": "CIUKBGnbfmff"
      },
      "source": [
        "class NeuralNet(torch.nn.Module):\n",
        "        def __init__(self, input_size, hidden_size):\n",
        "            super(NeuralNet, self).__init__()\n",
        "            self.input_size = input_size\n",
        "            self.hidden_size  = hidden_size\n",
        "            \n",
        "            self.linear_1 = torch.nn.Linear(self.input_size, self.hidden_size)\n",
        "            self.relu = torch.nn.ReLU()\n",
        "            self.linear_2 = torch.nn.Linear(self.hidden_size, 1)\n",
        "            self.sigmoid = torch.nn.Sigmoid()\n",
        "            \n",
        "        def forward(self, input_tensor):\n",
        "            linear1 = self.linear_1(input_tensor)\n",
        "            relu = self.relu(linear1)\n",
        "            \n",
        "            linear2 = self.linear_2(relu)\n",
        "            output = self.sigmoid(linear2)\n",
        "            return output"
      ],
      "execution_count": null,
      "outputs": []
    },
    {
      "cell_type": "code",
      "metadata": {
        "id": "U4iWUny1fmff"
      },
      "source": [
        "model = NeuralNet(2, 5)\n",
        "criterion = torch.nn.BCELoss()\n",
        "optimizer = torch.optim.SGD(model.parameters(), lr = learning_rate)"
      ],
      "execution_count": null,
      "outputs": []
    },
    {
      "cell_type": "code",
      "metadata": {
        "id": "FcjfUFD8fmff"
      },
      "source": [
        "model.eval()\n",
        "test_loss_before = criterion(model(x_test).squeeze(), y_test)\n",
        "print('Before Training, test loss is {}'.format(test_loss_before.item()))"
      ],
      "execution_count": null,
      "outputs": []
    },
    {
      "cell_type": "code",
      "metadata": {
        "id": "sk7Y9iEltVeS"
      },
      "source": [
        "model.train()\n",
        "optimizer.zero_grad()\n",
        "train_output = model(x_train)\n",
        "train_loss = criterion(train_output.squeeze(), y_train)\n",
        "train_loss.backward()\n",
        "optimizer.step()"
      ],
      "execution_count": null,
      "outputs": []
    },
    {
      "cell_type": "code",
      "metadata": {
        "id": "5Uarf06ts8tj"
      },
      "source": [
        "learning_rate = 0.03\n",
        "epochs = 2000"
      ],
      "execution_count": null,
      "outputs": []
    },
    {
      "cell_type": "code",
      "metadata": {
        "id": "YfPevo3Sfmfg"
      },
      "source": [
        "for epoch in range(epochs):\n",
        "    model.train()\n",
        "    optimizer.zero_grad()\n",
        "    train_output = model(x_train)\n",
        "    train_loss = criterion(train_output.squeeze(), y_train)\n",
        "    if epoch % 100 == 0:\n",
        "        print('Train loss at {} is {}'.format(epoch, train_loss.item()))\n",
        "    train_loss.backward()\n",
        "    optimizer.step()"
      ],
      "execution_count": null,
      "outputs": []
    },
    {
      "cell_type": "code",
      "metadata": {
        "id": "bqQLXlsefmfg"
      },
      "source": [
        "model.eval()\n",
        "test_loss = criterion(model(x_test).squeeze(), y_test)\n",
        "print('After Training, test loss is {}'.format(test_loss.item()))"
      ],
      "execution_count": null,
      "outputs": []
    },
    {
      "cell_type": "code",
      "metadata": {
        "id": "GIMYuQW5fmfg"
      },
      "source": [
        "torch.save(model.state_dict(), './model.pt')\n",
        "print('state_dict format of the model: {}'.format(model.state_dict()))"
      ],
      "execution_count": null,
      "outputs": []
    },
    {
      "cell_type": "code",
      "metadata": {
        "id": "QN9bBKYDfmfh"
      },
      "source": [
        "new_model = NeuralNet(2, 5)\n",
        "new_model.load_state_dict(torch.load('./model.pt'))\n",
        "new_model.eval()\n",
        "print('벡터 [0, 1]이 레이블 1을 가질 확률은 {}'.format\\\n",
        "      (new_model(torch.FloatTensor([0,1])).item()))"
      ],
      "execution_count": null,
      "outputs": []
    },
    {
      "cell_type": "code",
      "metadata": {
        "id": "vxXvcsD_sMR5"
      },
      "source": [
        "def binary_acc(y_pred, y_test):\n",
        "    y_pred_tag = torch.round((y_pred)).squeeze()\n",
        "\n",
        "    correct_results_sum = (y_pred_tag == y_test).sum().float()\n",
        "    acc = correct_results_sum/y_test.shape[0]\n",
        "    acc = torch.round(acc * 100)\n",
        "    \n",
        "    return acc"
      ],
      "execution_count": null,
      "outputs": []
    },
    {
      "cell_type": "code",
      "metadata": {
        "id": "FF5561NFlknQ"
      },
      "source": [
        "new_model.eval()\n",
        "print(torch.round(new_model(x_test)).squeeze())\n",
        "print(y_test)\n",
        "print(binary_acc(new_model(x_test), y_test))"
      ],
      "execution_count": null,
      "outputs": []
    },
    {
      "cell_type": "code",
      "metadata": {
        "id": "bycGoSM6sqmc"
      },
      "source": [
        "for i in range(0,2000,100):\n",
        "    new_model = NeuralNet(2, 5)\n",
        "    new_model.load_state_dict(torch.load('./model_epoch{}.pt'.format(i)))\n",
        "    new_model.eval()\n",
        "    print(\"======epoch : {} =======\".format(i))\n",
        "    print(binary_acc(new_model(x_test), y_test))"
      ],
      "execution_count": null,
      "outputs": []
    }
  ]
}