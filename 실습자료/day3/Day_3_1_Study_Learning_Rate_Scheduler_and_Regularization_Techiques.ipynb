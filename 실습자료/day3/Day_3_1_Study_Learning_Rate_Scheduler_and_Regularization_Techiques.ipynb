{
  "nbformat": 4,
  "nbformat_minor": 0,
  "metadata": {
    "colab": {
      "provenance": []
    },
    "kernelspec": {
      "name": "python3",
      "display_name": "Python 3"
    },
    "language_info": {
      "name": "python"
    },
    "accelerator": "GPU",
    "gpuClass": "standard"
  },
  "cells": [
    {
      "cell_type": "markdown",
      "metadata": {
        "id": "9IuOTnU2Gevg"
      },
      "source": [
        "# Day_3_1 Study Learning Rate Scheduler and Regularization Techiques\n",
        "- `Learning Rate Scheduler`: optim.lr_schedule\n",
        "- `Regularization Techiques`: Early stopping, Dropout, Batch Normalization "
      ]
    },
    {
      "cell_type": "markdown",
      "source": [
        "## 1) Learning Rate Scheduler : optim.lr_scheduler\n",
        " - [doc] (https://pytorch.org/docs/stable/optim.html)\n",
        "\n",
        " ![image.png](http://drive.google.com/uc?id=1LsHW_g90NRBemBEm-1Bn-0et0qDNyi8v)\n",
        "\n",
        " ![image.png](http://drive.google.com/uc?id=1SoKAf7efPEdaW9JjzWlOcrD_YpQ5WtUg)\n",
        "\n",
        " ![image.png](http://drive.google.com/uc?id=1YWnNY-SHX56ften_lbXARStqA8lVwkLg)\n",
        "\n",
        " - [ optimizer class ]\n",
        "\n",
        " ![image.png](http://drive.google.com/uc?id=1Ab6eMphYOE15DPMd_wBKW0HwsDM6mlfV)\n",
        "\n",
        " - [ scheduler function ]\n",
        "\n",
        " ![image.png](http://drive.google.com/uc?id=1Ri1piSSdPng993SCk0vGqDGuoiD5aDqd)\n",
        "\n",
        " ![image.png](http://drive.google.com/uc?id=1cU3Et1QbKPf4jKoCwK14jDz3SgVkRG8N)"
      ],
      "metadata": {
        "id": "WEMOKqbrYOUf"
      }
    },
    {
      "cell_type": "code",
      "metadata": {
        "id": "WyWiElwZ-L0u"
      },
      "source": [
        "import torch\n",
        "import torch.nn as nn\n",
        "import torch.optim as optim\n",
        "import matplotlib.pyplot as plt \n",
        "import numpy as np\n",
        "from torchsummary import summary "
      ],
      "execution_count": 1,
      "outputs": []
    },
    {
      "cell_type": "markdown",
      "source": [
        "# Build NN\n",
        "- 3개의 fully connectedlayer로 구성\n",
        "  - linear layer인 fc1을 거치기 위해 flatten 필요\n",
        "- fc1, fc2는 relu activation function을 포함\n",
        "  - 입력데이터를 받아 각 레이어마다 w, b를 계산해야 함\n",
        "  - 따라서 backpropagation에서 발생할 수 있는 vanishing gradient 문제를 해결하기 위해 activation function 적용\n",
        "- fc3은 최종적으로 10개의 각 클래스에 대한 값을 출력\n",
        "![image.png](https://blog.kakaocdn.net/dn/b5XcJp/btqWUpKHPTL/wy9Z1Kg41sn6Nbqe2IKBMk/img.png)\n",
        "- `nn.Linear(input_dim, output_dim)`\n",
        "  - `input_dim`: 입력되는 x의 차원(input sample의 size)\n",
        "  - `output_dim`: 출력되는 y의 차원(output sample의 size)\n",
        "- [activation function 참고(RELU, sigmoid)](https://heytech.tistory.com/388)"
      ],
      "metadata": {
        "id": "ZNp5t2uh_vVQ"
      }
    },
    {
      "cell_type": "code",
      "metadata": {
        "id": "2gyzM_OF0Zw5"
      },
      "source": [
        "# Model 설정\n",
        "class Net(nn.Module):\n",
        "    def __init__(self):\n",
        "        super(Net, self).__init__()\n",
        "        self.relu = nn.ReLU()\n",
        "        self.fc1 = nn.Linear(784, 256) # input(fashion MNIST, 28*28)\n",
        "        self.fc2 = nn.Linear(256, 128)\n",
        "        self.fc3 = nn.Linear(128, 10) # output(# of class, 10)\n",
        "    \n",
        "    def forward(self, x):\n",
        "        x = x.view(-1, 784) # flatten : (1,28,28) -> (1,784)\n",
        "        x = self.relu(self.fc1(x)) # (1,784) -> fc1 -> (1, 256)\n",
        "        x = self.relu(self.fc2(x))  # (1,256) -> fc2 -> (1, 128)\n",
        "        x = self.fc3(x) # (1,128) -> fc2 -> (1, 128)\n",
        "        return x\n",
        "\n",
        "model = Net()"
      ],
      "execution_count": 45,
      "outputs": []
    },
    {
      "cell_type": "markdown",
      "source": [
        "## SGD(Stochastic Gradient Descent)\n",
        "- gradient descent를 전체 데이터(batch)가 아닌 일부 데이터의 모음을 사용하는 방법\n",
        "- ![image.png](https://velog.velcdn.com/images%2Fkyoung99u%2Fpost%2F878fb7c0-1c78-43c8-8455-924895c2cb7d%2Fimage.png)\n",
        "\n",
        "### Learning rate scheduler\n",
        "- `learning rate`는 backpropagation 학습 과정에서 모델의 weight인 gradient의 변화, 업데이트 보폭(or step size)를 말함\n",
        "- `Learning rate scheduler`는 학습이 진행됨에 따라 epoch/itetation 간에 학습률을 조정하는 프레임 워크\n",
        "- `StepLR`: 일정한 Step 마다 learning rate에 gamma를 곱해주는 방식\n",
        "- [참고](https://pytorch.org/docs/stable/optim.html)\n"
      ],
      "metadata": {
        "id": "u1BWed3NKf6-"
      }
    },
    {
      "cell_type": "code",
      "metadata": {
        "id": "QgLv3VK8K6zK",
        "colab": {
          "base_uri": "https://localhost:8080/",
          "height": 283
        },
        "outputId": "adb7ac96-76ed-464e-8bfb-14e2764dc8ac"
      },
      "source": [
        "# Parameter 설정\n",
        "########################################## Change This Code~!\n",
        "EPOCHS = 100\n",
        "LR = 0.01\n",
        "STEP_SIZE = 30\n",
        "GAMMA = 0.1\n",
        "########################################## Change This Code~!\n",
        "\n",
        "# Optimizer 및 Scheduler 설정\n",
        "optimizer = optim.SGD(model.parameters(), lr=LR)\n",
        "scheduler = optim.lr_scheduler.StepLR(optimizer, step_size=STEP_SIZE, gamma=GAMMA) # step size마다 gamma 비율로 lr을 감소시킨다. (step_size 마다 gamma를 곱한다.)\n",
        "\n",
        "def get_lr(optimizer, scheduler): # Training 코드\n",
        "    lr = scheduler.get_last_lr()[0]\n",
        "    optimizer.step()\n",
        "    scheduler.step() # Scheduler를 사용한다면 필수적으로 들어가야함\n",
        "    #print(lr)\n",
        "    return lr\n",
        "\n",
        "plt.plot(torch.arange(EPOCHS), [get_lr(optimizer, scheduler) for t in range(EPOCHS)])"
      ],
      "execution_count": 21,
      "outputs": [
        {
          "output_type": "execute_result",
          "data": {
            "text/plain": [
              "[<matplotlib.lines.Line2D at 0x7f1ba15eac40>]"
            ]
          },
          "metadata": {},
          "execution_count": 21
        },
        {
          "output_type": "display_data",
          "data": {
            "text/plain": [
              "<Figure size 432x288 with 1 Axes>"
            ],
            "image/png": "[encoded data removed]"
          },
          "metadata": {
            "needs_background": "light"
          }
        }
      ]
    },
    {
      "cell_type": "markdown",
      "metadata": {
        "id": "5sCDot73ctvA"
      },
      "source": [
        "# Regularization Techniques "
      ]
    },
    {
      "cell_type": "markdown",
      "metadata": {
        "id": "xlzoACw9eOnw"
      },
      "source": [
        "## 1) Early Stopping\n",
        "\n",
        "![image.png](https://miro.medium.com/max/1400/1*06sTlOC3AYeZAjzUDwbaMw@2x.jpeg)"
      ]
    },
    {
      "cell_type": "markdown",
      "source": [
        "### Early Stopping Algorithm\n",
        "- 실제 돌아가는 코드는 아닙니다. 알고리즘 참고용"
      ],
      "metadata": {
        "id": "rqLIChzwVCmh"
      }
    },
    {
      "cell_type": "code",
      "metadata": {
        "id": "0nQimUqQxGGH"
      },
      "source": [
        "# Early Stopping Algorithm\n",
        "count = 0\n",
        "valid_acc = 0\n",
        "for epcho in range(EPOCHS): # training loop\n",
        "    for idx, (image, target) in enumerate(valid_loader): # at each epoch\n",
        "        output = model(image) # model inference\n",
        "        valid_acc = accuracy(output, target) # calculate valid accuracy\n",
        "        if valid_acc > best_valid_acc: # Valid dataset에 대한 accuracy가 계속 증가하고 있으면 --> count=0, model 저장\n",
        "            best_valid_acc = valid_acc\n",
        "            torch.save(model.state_dict(), path) # save best model\n",
        "            count = 0\n",
        "        else: # Valid Accuracy가 증가하지 않을 때 \n",
        "            count += 1\n",
        "            if count >= 3: # 연속 3번 epoch 동안 accuracy가 best accuracy보다 크지 못하다면\n",
        "                break # Early Stopping Point 이다."
      ],
      "execution_count": null,
      "outputs": []
    },
    {
      "cell_type": "markdown",
      "metadata": {
        "id": "7f7jg-aqd_hq"
      },
      "source": [
        "## 2) Batch Normalization \n",
        "![image.png](https://gaussian37.github.io/assets/img/dl/concept/batchnorm/4.png)\n",
        "- 학습 과정에서 각 배치 단위 별로 데이터가 다양한 분포를 가지더라도 각 배치별로 평균과 분산을 이용해 정규화하는 것을 뜻함.\n",
        "- batch 단위나 layer에 따라서 입력 값의 분포가 모두 다르지만 정규화를 통하여 분포를 zero mean gaussian 형태로 만듦.\n",
        "- [내용 참고](https://gaussian37.github.io/dl-concept-batchnorm/)\n",
        "\n",
        "\n",
        "## Pytorch에서의 사용 방법.\n",
        "- `torch.nn.BatchNorm1d`와 `torch.nn.BatchNorm2d`를 사용하는 것\n",
        "- [doc] (https://pytorch.org/docs/stable/generated/torch.nn.BatchNorm2d.html)\n",
        "\n",
        " ![image.png](http://drive.google.com/uc?id=1sId2CSNqxKncTueKwgtIoBzEMvSfAvhx)\n",
        " ![image.png](http://drive.google.com/uc?id=1fycDf_67C9OBV1GHZBmwD4P83iNtS5XL)\n",
        " ![image.png](http://drive.google.com/uc?id=1dDAMt76ZNg1stRVXMs_gYrz7CBw-PbmA)\n"
      ]
    },
    {
      "cell_type": "code",
      "metadata": {
        "id": "dsK1rtKJH-SB",
        "colab": {
          "base_uri": "https://localhost:8080/"
        },
        "outputId": "8fe741e6-2316-400a-84d7-5f918c5ac52d"
      },
      "source": [
        "# Model 설정\n",
        "class Net(nn.Module):\n",
        "    def __init__(self):\n",
        "        super(Net, self).__init__()\n",
        "        self.relu = nn.ReLU()\n",
        "        self.fc1 = nn.Linear(784, 256)\n",
        "        self.bn1 = nn.BatchNorm1d(num_features=256) # x가 2-dim 이면 nn.BatchNorm2d\n",
        "        self.fc2 = nn.Linear(256, 128)\n",
        "        self.bn2 = nn.BatchNorm1d(num_features=128) # x가 2-dim 이면 nn.BatchNorm2d\n",
        "        self.fc3 = nn.Linear(128, 10)\n",
        "    \n",
        "    def forward(self, x):\n",
        "        x = x.view(-1, 784)\n",
        "        ########################################## Change This Code~!\n",
        "        x = self.relu(self.bn1(self.fc1(x)))\n",
        "        x = self.relu(self.bn2(self.fc2(x)))\n",
        "        ########################################## Change This Code~!\n",
        "        x = self.fc3(x)\n",
        "        return x\n",
        "\n",
        "model = Net().to(\"cuda\")\n",
        "summary(model, (1, 28, 28))"
      ],
      "execution_count": 48,
      "outputs": [
        {
          "output_type": "stream",
          "name": "stdout",
          "text": [
            "----------------------------------------------------------------\n",
            "        Layer (type)               Output Shape         Param #\n",
            "================================================================\n",
            "            Linear-1                  [-1, 256]         200,960\n",
            "       BatchNorm1d-2                  [-1, 256]             512\n",
            "              ReLU-3                  [-1, 256]               0\n",
            "            Linear-4                  [-1, 128]          32,896\n",
            "       BatchNorm1d-5                  [-1, 128]             256\n",
            "              ReLU-6                  [-1, 128]               0\n",
            "            Linear-7                   [-1, 10]           1,290\n",
            "================================================================\n",
            "Total params: 235,914\n",
            "Trainable params: 235,914\n",
            "Non-trainable params: 0\n",
            "----------------------------------------------------------------\n",
            "Input size (MB): 0.00\n",
            "Forward/backward pass size (MB): 0.01\n",
            "Params size (MB): 0.90\n",
            "Estimated Total Size (MB): 0.91\n",
            "----------------------------------------------------------------\n"
          ]
        }
      ]
    },
    {
      "cell_type": "markdown",
      "metadata": {
        "id": "AtgtyCq7eck2"
      },
      "source": [
        "## 3) Dropout : nn.Dropout2d\n",
        "![imgae.png](https://img1.daumcdn.net/thumb/R1280x0/?scode=mtistory2&fname=https%3A%2F%2Fblog.kakaocdn.net%2Fdn%2Fm5YtD%2FbtrbwgszFXZ%2FxdUhkeyK2lmrQXYy7HioL0%2Fimg.png)\n",
        "- 서로 연결된 layer 0~1 사이의 확률로 뉴런을 제거(drop)하는 기법\n",
        "- ex. drop-out rate가 0.5라고 가정\n",
        "  - Drop-out 이전에 4개의 뉴런끼리 모두 연결되어 있는 Fully Connected Layer\n",
        "  - 4개의 뉴런 각각은 0.5의 확률로 제거될지 말지 랜덤하게 결정\n",
        "  - 사용목적: 특정한 feature만을 과도하게 집중하여 학습함으로써 발생하는 overfitting을 방지하기 위해 사용.\n",
        "  - [내용 참고](https://heytech.tistory.com/127)\n",
        "\n",
        "- [doc] (https://pytorch.org/docs/stable/generated/torch.nn.Dropout2d.html)\n",
        "\n",
        " ![image.png](http://drive.google.com/uc?id=1qYq4XLqNskL8ejGVjFblS9cVfYIJmyHR)\n",
        " ![image.png](http://drive.google.com/uc?id=11jcEX8ADdeW4y2U1EnFbk0j2h4OQX9TG)\n",
        " ![image.png](http://drive.google.com/uc?id=1dDAMt76ZNg1stRVXMs_gYrz7CBw-PbmA)"
      ]
    },
    {
      "cell_type": "code",
      "metadata": {
        "id": "s2myTmx9JMhN",
        "colab": {
          "base_uri": "https://localhost:8080/"
        },
        "outputId": "85c358fd-0500-4bcc-d5cb-72b8268e83f4"
      },
      "source": [
        "# Model 설정\n",
        "class Net(nn.Module):\n",
        "    def __init__(self):\n",
        "        super(Net, self).__init__()\n",
        "        self.dropout = nn.Dropout(p=0.5) # x가 2-dim 이면 nn.Dropout2d\n",
        "        self.relu = nn.ReLU()\n",
        "        self.fc1 = nn.Linear(784, 256)\n",
        "        self.bn1 = nn.BatchNorm1d(256) # x가 2-dim 이면 nn.BatchNorm2d\n",
        "        self.fc2 = nn.Linear(256, 128)\n",
        "        self.bn2 = nn.BatchNorm1d(128) # x가 2-dim 이면 nn.BatchNorm2d\n",
        "        self.fc3 = nn.Linear(128, 10)\n",
        "    \n",
        "    def forward(self, x):\n",
        "        x = x.view(-1, 784)\n",
        "        ########################################## Change This Code~!\n",
        "        x = self.dropout(self.relu(self.bn1(self.fc1(x))))\n",
        "        x = self.dropout(self.relu(self.bn2(self.fc2(x))))\n",
        "        ########################################## Change This Code~!\n",
        "        x = self.fc3(x)\n",
        "        return x\n",
        "\n",
        "model = Net().to(\"cuda\")\n",
        "summary(model, (1, 28, 28))"
      ],
      "execution_count": 49,
      "outputs": [
        {
          "output_type": "stream",
          "name": "stdout",
          "text": [
            "----------------------------------------------------------------\n",
            "        Layer (type)               Output Shape         Param #\n",
            "================================================================\n",
            "            Linear-1                  [-1, 256]         200,960\n",
            "       BatchNorm1d-2                  [-1, 256]             512\n",
            "              ReLU-3                  [-1, 256]               0\n",
            "           Dropout-4                  [-1, 256]               0\n",
            "            Linear-5                  [-1, 128]          32,896\n",
            "       BatchNorm1d-6                  [-1, 128]             256\n",
            "              ReLU-7                  [-1, 128]               0\n",
            "           Dropout-8                  [-1, 128]               0\n",
            "            Linear-9                   [-1, 10]           1,290\n",
            "================================================================\n",
            "Total params: 235,914\n",
            "Trainable params: 235,914\n",
            "Non-trainable params: 0\n",
            "----------------------------------------------------------------\n",
            "Input size (MB): 0.00\n",
            "Forward/backward pass size (MB): 0.01\n",
            "Params size (MB): 0.90\n",
            "Estimated Total Size (MB): 0.91\n",
            "----------------------------------------------------------------\n"
          ]
        }
      ]
    }
  ]
}